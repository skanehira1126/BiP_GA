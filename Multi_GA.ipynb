{
 "cells": [
  {
   "cell_type": "code",
   "execution_count": null,
   "metadata": {
    "collapsed": true
   },
   "outputs": [],
   "source": [
    "from BiP_GA import multiga \n",
    "\n",
    "import random\n",
    "\n",
    "import numpy as np\n",
    "import os"
   ]
  },
  {
   "cell_type": "code",
   "execution_count": null,
   "metadata": {
    "scrolled": false
   },
   "outputs": [],
   "source": [
    "### evaluation function for binary\n",
    "def get_reward(individuals):\n",
    "    fitness = [sum(i) for i in individuals]\n",
    "    return fitness\n",
    "\n",
    "def get_reward_bip(individuals):\n",
    "    fitness = [np.sum(np.where(individuals[i] == 1)[0]) for i in range(n_pop)]\n",
    "    return fitness \n",
    "\n",
    "ga = multiga.multi_GA(code_type=\"binary\", operation=\"both\")\n",
    "\n",
    "\"\"\"initialize\"\"\"\n",
    "blocks = 5\n",
    "n_parents = 15        # the number of parents\n",
    "l_gen = 100           # the length of gen\n",
    "n_pop   = 20         # the number of popuration\n",
    "e_size = 5            # Elete size for elete selection\n",
    "t_size =10            # tournament size for tournament selection\n",
    " \n",
    "\n",
    "ga.blocks_init(blocks=blocks, l_gen=l_gen, n_pop=n_pop, n_parents=7)\n",
    "\n",
    "pb_crs = 1          # probability of crossover\n",
    "pb_mut = 0.1        # probability of mutation\n",
    "\n",
    "#crs_ratio = [0,0,1,0]  # [cycle, op_order, order_based, position_based]\n",
    "#mut_ratio = [0.25,0.25,0.25,0.25] # [swap, inversion, scramble, translocation]\n",
    "\n",
    "# for permutation\n",
    "#crs_ratio = np.array([[1,0,0,0], [0,1,0,0], [0,0,1,0], [0,0,0,1], [0.25,0.25,0.25,0.25]])\n",
    "#mut_ratio = np.array([[1,0,0,0], [0,1,0,0], [0,0,1,0], [0,0,0,1], [0.25,0.25,0.25,0.25]])\n",
    "\n",
    "# for binary\n",
    "crs_ratio = np.array([[0.3,0.3,0.4],[1,0,0],[0,1,0],[0,0,1],[0,0.5,0.5]])\n",
    "mut_ratio = np.array([[1,0,0,0], [0,1,0,0], [0,0,1,0], [0,0,0,1], [0.25,0.25,0.25,0.25]])\n",
    "\n",
    "ga.probs_init(mul_pb_crs = pb_crs ,mul_pb_mut = pb_mut, mul_crs_ratio =  crs_ratio ,\n",
    "              mul_mut_ratio = mut_ratio)\n",
    "\n",
    "select_func = [\"roulette\", \"tournament\", \"elete\", \"tournament\", \"elete\"]\n",
    "gablocks = ga.coding_init(select_func=select_func, t_size = 4)\n",
    "\n",
    "ga.set_emigration(interval=50, inds=5, etype=\"fitness\")\n",
    "ga.make_init_generation(n_1 = \"random\")\n",
    "ga.evolutinal_step(converge=1000, eval_func=get_reward)"
   ]
  },
  {
   "cell_type": "code",
   "execution_count": null,
   "metadata": {
    "collapsed": true
   },
   "outputs": [],
   "source": []
  }
 ],
 "metadata": {
  "kernelspec": {
   "display_name": "Python2",
   "language": "python",
   "name": "python2"
  },
  "language_info": {
   "codemirror_mode": {
    "name": "ipython",
    "version": 2
   },
   "file_extension": ".py",
   "mimetype": "text/x-python",
   "name": "python",
   "nbconvert_exporter": "python",
   "pygments_lexer": "ipython2",
   "version": "2.7.14"
  }
 },
 "nbformat": 4,
 "nbformat_minor": 2
}
