{
 "cells": [
  {
   "cell_type": "code",
   "execution_count": null,
   "metadata": {
    "scrolled": true
   },
   "outputs": [],
   "source": [
    "from TSP.tsp_main import tsp_ga\n",
    "import numpy as np\n",
    "import os\n",
    "import matplotlib.pyplot as plt"
   ]
  },
  {
   "cell_type": "code",
   "execution_count": null,
   "metadata": {
    "scrolled": true
   },
   "outputs": [],
   "source": [
    "def plot_root(gene,count):\n",
    "    plt.scatter(0,0,c=\"g\")\n",
    "    plt.scatter(position[:,0],position[:,1],c=\"b\")\n",
    "    plt.plot([0,position[tsp.best_ind[0],0]],[0,position[tsp.best_ind[0],1]],c = \"r\")\n",
    "    plt.plot([0,position[tsp.best_ind[-1],0]],[0,position[tsp.best_ind[-1],1]],c = \"r\")\n",
    "    plt.plot(position[tsp.best_ind,0],position[tsp.best_ind,1],c =\"r\")\n",
    "    plt.title(\"Generation :{}\".format(gene))\n",
    "    plt.savefig(\"./tsp_graph/root_plot_{0:04d}.png\".format(count),format=\"png\")\n",
    "    plt.close()"
   ]
  },
  {
   "cell_type": "code",
   "execution_count": null,
   "metadata": {
    "scrolled": true
   },
   "outputs": [],
   "source": [
    "\"\"\"initialize\"\"\"\n",
    "n_parents = 15 # the number of parents\n",
    "l_gen = 50     # the length of gen\n",
    "n_pop   = 100  # the number of popuration\n",
    "max_generation = 1500 # Max generation\n",
    "e_size = 5     # Elete size for elete selection\n",
    "t_size =10     # tournament size for tournament selection\n",
    "\n",
    "pb_crs = 1     # probability of crossover\n",
    "pb_mut = 0.1   # probability of mutation\n",
    "crs_ratio = [0,0,1] \n",
    "mut_ratio = [0.25,0.25,0.25,0.25]\n",
    "\n",
    "extra_mut = 0.5 # for grate mutation\n",
    "\n",
    "position = np.random.rand(l_gen,2)*100\n",
    "tsp = tsp_ga(l_gen = l_gen, n_pop = n_pop, n_parents=n_parents, \n",
    "             e_size=e_size, pb_mut=pb_mut, pb_crs = pb_crs)\n",
    "\n",
    "tsp.set_ratios(crs_ratio = crs_ratio, mut_ratio = mut_ratio)\n",
    "\n",
    "print(\"----- Parameters ------\")\n",
    "print(tsp.get_params())"
   ]
  },
  {
   "cell_type": "code",
   "execution_count": null,
   "metadata": {
    "scrolled": true
   },
   "outputs": [],
   "source": [
    "stop_limit = 100\n",
    "count = 0\n",
    "for gene in range(1,max_generation):\n",
    "    print(\" ----------  Generation : {} ---------\".format(gene))\n",
    "    if gene == 1:\n",
    "        tsp.make_init_generation()\n",
    "        tsp.get_fitness(target = position)\n",
    "        print(\"best fitness : \", max(tsp.fitness))\n",
    "        tsp.get_best_individuals()\n",
    "        count = count +1\n",
    "        plot_root(gene,count)\n",
    "        continue\n",
    "    \n",
    "    \n",
    "    \"\"\"Selection\"\"\"\n",
    "    parents = tsp.tournament_selection(t_size=t_size, p_size=tsp.n_parents, fitness=tsp.fitness, population = tsp.inds)\n",
    "    kb = tsp.elete_selection(e_size=e_size, fitness=tsp.fitness, population = tsp.inds)   \n",
    "    \n",
    "    offspring = np.empty([0,tsp.l_gen])\n",
    "    while offspring.shape[0] != tsp.n_pop-tsp.e_size:\n",
    "        p1, p2 = np.random.choice(parents.shape[0],2,replace=False) \n",
    "        \"\"\"Crossover\"\"\"\n",
    "        tsp.Crossover(parents[p1], parents[p2])\n",
    "        \"\"\"Mutation\"\"\"\n",
    "        tsp.Mutation(parent=tsp.child)\n",
    "        #tsp.GMutation(parent=tsp.child, generation=gene, extra_mut=0.5, cycle=100)\n",
    "        offspring = np.append(offspring, tsp.child.reshape(1,-1),axis=0)\n",
    "    \n",
    "    offspring = np.append(offspring,kb,axis=0)\n",
    "    tsp.inds = offspring.astype(int)\n",
    "    \n",
    "    \n",
    "    tsp.get_fitness(target = position)\n",
    "    print(\"best fitness :\", max(tsp.fitness))\n",
    "    tsp.get_best_individuals()\n",
    "    if tsp.best_fit_list[gene-2] < tsp.best_fit_list[gene-1]:\n",
    "        count = count +1\n",
    "        plot_root(gene,count)\n",
    "        \n",
    "    if tsp.best_fit_list[gene-1] == tsp.best_fit_list[gene-2]:\n",
    "        stop_count = stop_count +1\n",
    "    elif tsp.best_fit_list[gene-1] != tsp.best_fit_list[gene-2]:\n",
    "        stop_count = 0\n",
    "    \n",
    "    if stop_count == stop_limit:\n",
    "        print(\"GA is converged. Finish evolutional roop.\")\n",
    "        break\n",
    "        \n",
    "    \n",
    "\n",
    "tsp.get_best_individuals()"
   ]
  },
  {
   "cell_type": "code",
   "execution_count": null,
   "metadata": {
    "scrolled": true
   },
   "outputs": [],
   "source": [
    "%matplotlib inline\n",
    "\n",
    "plt.scatter(0,0,c=\"g\")\n",
    "plt.scatter(position[:,0],position[:,1],c=\"b\")\n",
    "plt.plot([0,position[tsp.best_ind[0],0]],[0,position[tsp.best_ind[0],1]],c = \"r\")\n",
    "plt.plot([0,position[tsp.best_ind[-1],0]],[0,position[tsp.best_ind[-1],1]],c = \"r\")\n",
    "plt.plot(position[tsp.best_ind,0],position[tsp.best_ind,1],c =\"r\")\n",
    "\n",
    "#plt.plot([0,position[tsp.init_ind[0],0]],[0,position[tsp.init_ind[0],1]],c = \"r\")\n",
    "#plt.plot(position[tsp.init_ind,0],position[tsp.init_ind,1],c =\"r\")\n"
   ]
  },
  {
   "cell_type": "code",
   "execution_count": null,
   "metadata": {},
   "outputs": [],
   "source": [
    "import os\n",
    "os.system(\"convert -layers optimize -loop 0 -delay 40 ./tsp_graph/root_plot_*.png ./tsp_graph/root_plot.gif\")"
   ]
  },
  {
   "cell_type": "markdown",
   "metadata": {},
   "source": [
    "### Add evaluation function\n",
    "```python\n",
    "\"\"\"Set evaluation function\"\"\"\n",
    "print tsp.fitness_func.__name__  ###Default function\n",
    "tsp.set_fitness_func(func=)\n",
    "tsp.get_fitness(arg = hoge...)  ### Input parameter should be with argument\n",
    "```"
   ]
  },
  {
   "cell_type": "code",
   "execution_count": null,
   "metadata": {},
   "outputs": [],
   "source": []
  }
 ],
 "metadata": {
  "kernelspec": {
   "display_name": "mtds_ea",
   "language": "python",
   "name": "mtds_ea"
  },
  "language_info": {
   "codemirror_mode": {
    "name": "ipython",
    "version": 2
   },
   "file_extension": ".py",
   "mimetype": "text/x-python",
   "name": "python",
   "nbconvert_exporter": "python",
   "pygments_lexer": "ipython2",
   "version": "2.7.14"
  }
 },
 "nbformat": 4,
 "nbformat_minor": 2
}
