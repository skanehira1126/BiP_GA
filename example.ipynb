{
 "cells": [
  {
   "cell_type": "code",
   "execution_count": null,
   "metadata": {
    "scrolled": true
   },
   "outputs": [],
   "source": [
    "from GA.ga_main import ga_main\n",
    "import numpy as np\n",
    "import os\n",
    "import matplotlib.pyplot as plt"
   ]
  },
  {
   "cell_type": "markdown",
   "metadata": {},
   "source": [
    "## Example of permutation coding.\n",
    "### Solve traveling salesman problem"
   ]
  },
  {
   "cell_type": "code",
   "execution_count": null,
   "metadata": {
    "scrolled": true
   },
   "outputs": [],
   "source": [
    "def plot_root(gen,count):\n",
    "    plt.scatter(0,0,c=\"g\")\n",
    "    plt.scatter(position[:,0],position[:,1],c=\"b\")\n",
    "    plt.plot([0,position[ga.best_ind[0],0]],[0,position[ga.best_ind[0],1]],c = \"r\")\n",
    "    plt.plot([0,position[ga.best_ind[-1],0]],[0,position[ga.best_ind[-1],1]],c = \"r\")\n",
    "    plt.plot(position[ga.best_ind,0],position[ga.best_ind,1],c =\"r\")\n",
    "    plt.title(\"Generation :{}\".format(gen))\n",
    "    plt.savefig(\"./tsp_graph/root_plot_{0:04d}.png\".format(count),format=\"png\")\n",
    "    plt.close()"
   ]
  },
  {
   "cell_type": "code",
   "execution_count": null,
   "metadata": {
    "scrolled": true
   },
   "outputs": [],
   "source": [
    "\"\"\"initialize\"\"\"\n",
    "n_parents = 15        # the number of parents\n",
    "l_gene = 50           # the length of gen\n",
    "n_pop   = 100         # the number of popuration\n",
    "e_size = 5            # Elete size for elete selection\n",
    "t_size =10            # tournament size for tournament selection\n",
    "\n",
    "pb_crs = 1            # probability of crossover\n",
    "pb_mut = 0.1          # probability of mutation\n",
    "\n",
    "ga = ga_main(l_gene = l_gene, n_pop = n_pop, n_parents=n_parents,  # Initialize\n",
    "             e_size=e_size, pb_mut=pb_mut, pb_crs = pb_crs) \n",
    "\n",
    "\"\"\"Ratios of each methods in operations\"\"\"\n",
    "crs_ratio = [0,0,1,0]  # [cycle, op_order, order_based, position_based]\n",
    "mut_ratio = [0.25,0.25,0.25,0.25] # [swap, inversion, scramble, translocation]\n",
    "\n",
    "\"\"\"Set parameters\"\"\"\n",
    "ga.set_params(crs_ratio = crs_ratio, mut_ratio = mut_ratio)\n",
    "\n",
    "ga.show_params()  # print all parameters\n",
    "\n",
    "max_generation = 1500 # Max generation"
   ]
  },
  {
   "cell_type": "code",
   "execution_count": null,
   "metadata": {},
   "outputs": [],
   "source": [
    "\"\"\"Initial position\"\"\"\n",
    "position = np.random.rand(l_gene,2)*100 \n",
    "\n",
    "stop_limit = 100\n",
    "count = 0\n",
    "stop_count = 0\n",
    "\n",
    "for gen in range(1,max_generation):\n",
    "    print(\" ----------  Generation : {} ---------\".format(gen))\n",
    "    if gen == 1:\n",
    "        ga.make_init_generation(data_type=\"permutation\") # make 1st generation population\n",
    "        fitness = ga.calc_dist_fitness(position)\n",
    "        ga.get_fitness(fitness)                          # calculate fitness\n",
    "        print(\"best fitness : \"+ str(max(ga.fitness)))\n",
    "        ga.get_best_individuals()                        # get best individual in this generation\n",
    "        count = count +1\n",
    "        plot_root(gen,count)\n",
    "        continue\n",
    "    \n",
    "    \n",
    "    \"\"\"Selection\"\"\"\n",
    "    ### Tournament selection\n",
    "    parents = ga.tournament_selection(t_size=t_size, p_size=ga.n_parents, \n",
    "                                       fitness=ga.fitness, population = ga.inds)\n",
    "    ### Elete selection\n",
    "    kb = ga.elete_selection(e_size=e_size, fitness=ga.fitness, population = ga.inds)   \n",
    "    \n",
    "     \n",
    "    offspring = np.empty([0,ga.l_gene]) ### next generation population\n",
    "    while offspring.shape[0] != ga.n_pop-ga.e_size:\n",
    "        p1, p2 = np.random.choice(parents.shape[0],2,replace=False) \n",
    "        \"\"\"Crossover\"\"\"\n",
    "        ga.Crossover(parents[p1], parents[p2])\n",
    "        \"\"\"Mutation\"\"\"\n",
    "        ga.Mutation(parent=ga.child)\n",
    "        #ga.GMutation(parent=ga.child, generation=gen, extra_mut=0.5, cycle=100)\n",
    "        offspring = np.append(offspring, ga.child.reshape(1,-1),axis=0)\n",
    "    \n",
    "    \n",
    "    offspring = np.append(offspring,kb,axis=0)\n",
    "    ga.inds = offspring.astype(int)\n",
    "    \n",
    "    fitness = ga.calc_dist_fitness(position)\n",
    "    ga.get_fitness(fitness)                          # calculate fitness\n",
    "    print(\"best fitness : \"+ str(max(ga.fitness)))\n",
    "    ga.get_best_individuals()\n",
    "    \n",
    "    \"\"\"Plot graph\"\"\"\n",
    "    if ga.best_fit_list[gen-2] < ga.best_fit_list[gen-1]:\n",
    "        count = count +1\n",
    "        plot_root(gen,count)\n",
    "    \n",
    "    \"\"\"Check converge\"\"\"\n",
    "    if ga.best_fit_list[gen-1] == ga.best_fit_list[gen-2]:\n",
    "        stop_count = stop_count +1\n",
    "    elif ga.best_fit_list[gen-1] != ga.best_fit_list[gen-2]:\n",
    "        stop_count = 0\n",
    "    \n",
    "    if stop_count == stop_limit:\n",
    "        print(\"GA is converged. Finish evolutional roop.\")\n",
    "        break\n",
    "        \n",
    "    "
   ]
  },
  {
   "cell_type": "code",
   "execution_count": null,
   "metadata": {
    "scrolled": true
   },
   "outputs": [],
   "source": [
    "%matplotlib inline\n",
    "\n",
    "plt.scatter(0,0,c=\"g\")\n",
    "plt.scatter(position[:,0],position[:,1],c=\"b\")\n",
    "plt.plot([0,position[ga.best_ind[0],0]],[0,position[ga.best_ind[0],1]],c = \"r\")\n",
    "plt.plot([0,position[ga.best_ind[-1],0]],[0,position[ga.best_ind[-1],1]],c = \"r\")\n",
    "plt.plot(position[ga.best_ind,0],position[ga.best_ind,1],c =\"r\")\n"
   ]
  },
  {
   "cell_type": "code",
   "execution_count": null,
   "metadata": {},
   "outputs": [],
   "source": [
    "\"\"\"Make gif\"\"\"\n",
    "import os\n",
    "os.system(\"convert -layers optimize -loop 0 -delay 40 ./tsp_graph/root_plot_*.png ./tsp_graph/root_plot.gif\")"
   ]
  },
  {
   "cell_type": "markdown",
   "metadata": {},
   "source": [
    "## Example of binary coding.\n",
    "### Solve OneMax problem"
   ]
  },
  {
   "cell_type": "code",
   "execution_count": null,
   "metadata": {},
   "outputs": [],
   "source": [
    "\"\"\"initialize\"\"\"\n",
    "n_parents = 15        # the number of parents\n",
    "l_gene = 200            # the length of gen\n",
    "n_pop   = 100         # the number of popuration\n",
    "e_size = 5            # Elete size for elete selection\n",
    "t_size =10            # tournament size for tournament selection\n",
    "\n",
    "pb_crs = 1            # probability of crossover\n",
    "pb_mut = 0.1          # probability of mutation\n",
    "\n",
    "ga = ga_main(l_gene = l_gene, n_pop = n_pop, n_parents=n_parents,  \n",
    "             e_size=e_size, pb_mut=pb_mut, pb_crs = pb_crs, func_set= \"binary\") \n",
    "\n",
    "\"\"\"Ratios of each methods in operations\"\"\"\n",
    "crs_ratio = [0,1,0]  # [op, tp, uniform]\n",
    "mut_ratio = [0.25,0.25,0.25,0.25] # [substitution, inversion, scramble, translocation]\n",
    "\n",
    "\"\"\"Set parameters\"\"\"\n",
    "ga.set_params(crs_ratio = crs_ratio, mut_ratio = mut_ratio)\n",
    "\n",
    "ga.show_params()  # print all parameters\n",
    "\n",
    "max_generation = 1500 # Max generation"
   ]
  },
  {
   "cell_type": "code",
   "execution_count": null,
   "metadata": {
    "scrolled": false
   },
   "outputs": [],
   "source": [
    "\"\"\"Initial position\"\"\"\n",
    "stop_limit = 100\n",
    "stop_count = 0\n",
    "\n",
    "for gen in range(1,max_generation):\n",
    "    print(\" ----------  Generation : {} ---------\".format(gen))\n",
    "    if gen == 1:\n",
    "        ga.make_init_generation(data_type=\"binary\", n_1 = \"random\") # make 1st generation population\n",
    "        fitness = ga.calc_onemax_fitness()\n",
    "        ga.get_fitness(fitness)                          # calculate fitness\n",
    "        print(\"best fitness : \"+ str(max(ga.fitness)))\n",
    "        ga.get_best_individuals()                        # get best individual in this generation\n",
    "        continue\n",
    "    \n",
    "    \n",
    "    \"\"\"Selection\"\"\"\n",
    "    ### Tournament selection\n",
    "    parents = ga.tournament_selection(t_size=t_size, p_size=ga.n_parents, \n",
    "                                       fitness=ga.fitness, population = ga.inds)\n",
    "    ### Elete selection\n",
    "    kb = ga.elete_selection(e_size=e_size, fitness=ga.fitness, population = ga.inds)   \n",
    "    \n",
    "     \n",
    "    offspring = np.empty([0,ga.l_gene]) ### next generation population\n",
    "    while offspring.shape[0] != ga.n_pop-ga.e_size:\n",
    "        p1, p2 = np.random.choice(parents.shape[0],2,replace=False) \n",
    "        \"\"\"Crossover\"\"\"\n",
    "        ga.Crossover(parents[p1], parents[p2])\n",
    "        \"\"\"Mutation\"\"\"\n",
    "        ga.Mutation(parent=ga.child)\n",
    "        #ga.GMutation(parent=ga.child, generation=gen, extra_mut=0.5, cycle=100)\n",
    "        offspring = np.append(offspring, ga.child.reshape(1,-1),axis=0)\n",
    "    \n",
    "    \n",
    "    offspring = np.append(offspring,kb,axis=0)\n",
    "    ga.inds = offspring.astype(int)\n",
    "    \n",
    "    fitness = ga.calc_onemax_fitness()\n",
    "    ga.get_fitness(fitness)                          # calculate fitness\n",
    "    print(\"best fitness : \"+ str(max(ga.fitness)))\n",
    "    ga.get_best_individuals()\n",
    "    \n",
    "    \"\"\"Check converge\"\"\"\n",
    "    if ga.best_fit_list[gen-1] == ga.best_fit_list[gen-2]:\n",
    "        stop_count = stop_count +1\n",
    "    elif ga.best_fit_list[gen-1] != ga.best_fit_list[gen-2]:\n",
    "        stop_count = 0\n",
    "    \n",
    "    if stop_count == stop_limit:\n",
    "        print(\"GA is converged. Finish evolutional roop.\")\n",
    "        break\n",
    "        \n",
    "    "
   ]
  }
 ],
 "metadata": {
  "kernelspec": {
   "display_name": "mtds_ea",
   "language": "python",
   "name": "mtds_ea"
  },
  "language_info": {
   "codemirror_mode": {
    "name": "ipython",
    "version": 2
   },
   "file_extension": ".py",
   "mimetype": "text/x-python",
   "name": "python",
   "nbconvert_exporter": "python",
   "pygments_lexer": "ipython2",
   "version": "2.7.14"
  }
 },
 "nbformat": 4,
 "nbformat_minor": 2
}
